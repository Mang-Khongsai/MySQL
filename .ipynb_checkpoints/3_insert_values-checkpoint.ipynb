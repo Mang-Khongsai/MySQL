{
 "cells": [
  {
   "cell_type": "markdown",
   "id": "a231cc89-8b61-467a-b840-257d5351cf58",
   "metadata": {
    "tags": []
   },
   "source": [
    "<h2 style='color:blue' align='center'>Python and MySql Connection</h2>"
   ]
  },
  {
   "cell_type": "markdown",
   "id": "3de5bc92-c639-4a49-bb92-ab6ea571e116",
   "metadata": {},
   "source": [
    "<h3>1. Importing MySql Connector:</h3>"
   ]
  },
  {
   "cell_type": "code",
   "execution_count": 56,
   "id": "42e61154-62ec-472c-afd4-a36caeb32a96",
   "metadata": {},
   "outputs": [],
   "source": [
    "import mysql.connector"
   ]
  },
  {
   "cell_type": "markdown",
   "id": "51919a26-ec09-4b32-8c44-2b8b7bc71795",
   "metadata": {},
   "source": [
    "<h3>2. Connect to Mysql using MySql details:</h3>"
   ]
  },
  {
   "cell_type": "code",
   "execution_count": 57,
   "id": "ab442913-f555-4c16-89b7-fdd5a55ebdbe",
   "metadata": {
    "tags": []
   },
   "outputs": [],
   "source": [
    "conn = mysql.connector.connect(\n",
    "    host='localhost',\n",
    "    user='root',\n",
    "    password='Khongsai123#',\n",
    "    database = 'new_db'\n",
    ")\n",
    "\n",
    "cursor = conn.cursor()"
   ]
  },
  {
   "cell_type": "markdown",
   "id": "32d16681-cafa-4ce4-93ed-9c3e3c253c81",
   "metadata": {},
   "source": [
    "<h3>3. Building a Cursor to Execute Queries:</h3>"
   ]
  },
  {
   "cell_type": "code",
   "execution_count": 58,
   "id": "7ee7a37e-ac79-426e-bd91-7d64f6da8f21",
   "metadata": {},
   "outputs": [
    {
     "name": "stdout",
     "output_type": "stream",
     "text": [
      "[('celebrities',)]\n"
     ]
    }
   ],
   "source": [
    "cursor.execute(\"SHOW TABLES;\")\n",
    "data = cursor.fetchall()\n",
    "print(data)"
   ]
  },
  {
   "cell_type": "code",
   "execution_count": null,
   "id": "4cd85c6b-1933-4030-9998-565554460dc6",
   "metadata": {},
   "outputs": [],
   "source": []
  },
  {
   "cell_type": "code",
   "execution_count": 59,
   "id": "58392844-fd87-4736-9eeb-2072644ba5b6",
   "metadata": {},
   "outputs": [],
   "source": [
    "table_name = \"celebrities\""
   ]
  },
  {
   "cell_type": "code",
   "execution_count": 60,
   "id": "2445d22d-d4f4-4192-9abf-13f80b287619",
   "metadata": {},
   "outputs": [
    {
     "name": "stdout",
     "output_type": "stream",
     "text": [
      "celebrities data has been removed successfully!\n"
     ]
    }
   ],
   "source": [
    "try:\n",
    "    cursor.execute(f\"delete from {table_name};\")\n",
    "except Exception as e:\n",
    "    print(\"there is not table name \",table_name)\n",
    "else:\n",
    "    conn.commit()\n",
    "    print(f\"{table_name} data has been removed successfully!\")"
   ]
  },
  {
   "cell_type": "markdown",
   "id": "7a22e122-b891-4762-a184-f23bcdb4b4ef",
   "metadata": {},
   "source": [
    "<h3>Show Table Column Name</h3>"
   ]
  },
  {
   "cell_type": "code",
   "execution_count": 61,
   "id": "0450cd16-5c1c-40e9-8a7e-49f1298e0bc5",
   "metadata": {},
   "outputs": [
    {
     "name": "stdout",
     "output_type": "stream",
     "text": [
      "PersonID, FirstName, LastName, Nationality, Dob, Age, Popularity, Status, "
     ]
    }
   ],
   "source": [
    "cursor.execute(\"DESCRIBE celebrities\")\n",
    "for x in cursor.fetchall():\n",
    "    print(x[0],end=\", \")"
   ]
  },
  {
   "cell_type": "markdown",
   "id": "4352b8dc-b4e6-409e-af59-c43c94d1893c",
   "metadata": {},
   "source": [
    "<h3>Insert Single Row:</h3>"
   ]
  },
  {
   "cell_type": "code",
   "execution_count": 62,
   "id": "70e1e4b5-93cb-4b63-aa4d-50732a5d185e",
   "metadata": {},
   "outputs": [],
   "source": [
    "cursor.execute(\"\"\"INSERT INTO celebrities(PersonID, FirstName, LastName, Nationality, Dob, Age, Popularity, Status)\n",
    "               VALUES (%s, %s, %s, %s, %s, %s, %s, %s);\"\"\", (1, \"Bjarne\", \"Stroupstrup\", \"Denmark\", \"30th Dec 1959\", 73, \"C++\", \"Late\"))\n",
    "\n",
    "conn.commit()"
   ]
  },
  {
   "cell_type": "code",
   "execution_count": 63,
   "id": "cdb580e9-db0c-4b76-bb63-7a9cc218172a",
   "metadata": {},
   "outputs": [
    {
     "name": "stdout",
     "output_type": "stream",
     "text": [
      "(1, 'Bjarne', 'Stroupstrup', 'Denmark', '30th Dec 1959', 73, 'C++', 'Late')\n"
     ]
    }
   ],
   "source": [
    "# print the content of the table students\n",
    "cursor.execute(f\"SELECT * FROM celebrities\")\n",
    "data1 = cursor.fetchall()\n",
    "for row in data1:\n",
    "    print(row)"
   ]
  },
  {
   "cell_type": "markdown",
   "id": "6db79664-5dce-456e-9909-94854d1fb51b",
   "metadata": {},
   "source": [
    "<h3>Insert Multiple Rows:</h3>"
   ]
  },
  {
   "cell_type": "code",
   "execution_count": 64,
   "id": "8e00a55c-7807-40a9-a230-8b30c2ae799d",
   "metadata": {},
   "outputs": [],
   "source": [
    "cursor.executemany(\"\"\"INSERT INTO celebrities(PersonID, FirstName, LastName, Nationality, Dob, Age, Popularity, Status)\n",
    "                VALUES (%s, %s, %s, %s, %s, %s, %s, %s)\"\"\", \n",
    "                   [(2,\"James\", \"Gostling\",\"Canada\", \"19th May 1955\", 69, \"Java\", \"Late\"),\n",
    "                    (3,\"Guido Van\", \"Rossum\", \"Dutch\", \"31st Jan 1956\", 68, \"Python\", \"Alive\"),\n",
    "                   (4, \"Dennis\", \"Ritche\", \"USA\" , \"12th Oct 2011\", 70, \"C\", \"Late\"),\n",
    "                   (5, \"Michael Monty\", \"Widenius\", \"Finnish\", \"29th Nov 1962\", 61, \"MySQL\", \"Late\"),\n",
    "                   (6, \"Michael\", \"Stonebraker\", \"American\",\"11th March 1943\", 81, \"PostgreSQL\", \"Alive\"), \n",
    "                   (7, \"Linus Benedict\", \"Torvalds\", \"Finnish\",\"28th Dec 1969\", 54, \"Linux\", \"Alive\", )]\n",
    "                  )\n",
    "\n",
    "conn.commit()"
   ]
  },
  {
   "cell_type": "markdown",
   "id": "efacd5cf-2ec2-4fd2-81b7-cf0f8a6b8b58",
   "metadata": {},
   "source": [
    "<h3>Print The Table Contents Using fetchall()</h3>"
   ]
  },
  {
   "cell_type": "code",
   "execution_count": 65,
   "id": "092e3c2c-13d3-42ea-973d-8b99421491e8",
   "metadata": {},
   "outputs": [
    {
     "name": "stdout",
     "output_type": "stream",
     "text": [
      "(1, 'Bjarne', 'Stroupstrup', 'Denmark', '30th Dec 1959', 73, 'C++', 'Late')\n",
      "(2, 'James', 'Gostling', 'Canada', '19th May 1955', 69, 'Java', 'Late')\n",
      "(3, 'Guido Van', 'Rossum', 'Dutch', '31st Jan 1956', 68, 'Python', 'Alive')\n",
      "(4, 'Dennis', 'Ritche', 'USA', '12th Oct 2011', 70, 'C', 'Late')\n",
      "(5, 'Michael Monty', 'Widenius', 'Finnish', '29th Nov 1962', 61, 'MySQL', 'Late')\n",
      "(6, 'Michael', 'Stonebraker', 'American', '11th March 1943', 81, 'PostgreSQL', 'Alive')\n",
      "(7, 'Linus Benedict', 'Torvalds', 'Finnish', '28th Dec 1969', 54, 'Linux', 'Alive')\n"
     ]
    }
   ],
   "source": [
    "cursor.execute(\"SELECT * FROM celebrities;\")\n",
    "\n",
    "for row in cursor.fetchall():\n",
    "    print(row)"
   ]
  },
  {
   "cell_type": "markdown",
   "id": "f3f970f2-7820-429f-b518-c6a58147d188",
   "metadata": {},
   "source": [
    "<h3>Print The Table Contents Using featchmany(size)</h3>"
   ]
  },
  {
   "cell_type": "code",
   "execution_count": 66,
   "id": "52c20e6e-04af-40a1-a022-9bbba7ac5124",
   "metadata": {},
   "outputs": [
    {
     "name": "stdout",
     "output_type": "stream",
     "text": [
      "(1, 'Bjarne', 'Stroupstrup', 'Denmark', '30th Dec 1959', 73, 'C++', 'Late')\n",
      "(2, 'James', 'Gostling', 'Canada', '19th May 1955', 69, 'Java', 'Late')\n",
      "(3, 'Guido Van', 'Rossum', 'Dutch', '31st Jan 1956', 68, 'Python', 'Alive')\n",
      "(4, 'Dennis', 'Ritche', 'USA', '12th Oct 2011', 70, 'C', 'Late')\n"
     ]
    }
   ],
   "source": [
    "cursor.execute(\"SELECT * FROM celebrities;\")\n",
    "\n",
    "for row in cursor.fetchmany(4):\n",
    "    print(row)\n",
    "\n",
    "# always write .nextset() to discard unread result \n",
    "# unread result is the other values apart from 4 rows read in this cell\n",
    "cursor.nextset()"
   ]
  },
  {
   "cell_type": "code",
   "execution_count": 67,
   "id": "8aa6e3d6-dd6b-4974-a812-386392a4cad3",
   "metadata": {},
   "outputs": [],
   "source": [
    "cursor.close()\n",
    "conn.close()"
   ]
  },
  {
   "cell_type": "code",
   "execution_count": null,
   "id": "3321b122-2639-4016-824b-760afc2611ff",
   "metadata": {},
   "outputs": [],
   "source": []
  },
  {
   "cell_type": "code",
   "execution_count": null,
   "id": "0ae64a1b-6d6e-4e81-81cb-fcb027593d3b",
   "metadata": {},
   "outputs": [],
   "source": []
  }
 ],
 "metadata": {
  "kernelspec": {
   "display_name": "Python 3 (ipykernel)",
   "language": "python",
   "name": "python3"
  },
  "language_info": {
   "codemirror_mode": {
    "name": "ipython",
    "version": 3
   },
   "file_extension": ".py",
   "mimetype": "text/x-python",
   "name": "python",
   "nbconvert_exporter": "python",
   "pygments_lexer": "ipython3",
   "version": "3.12.3"
  }
 },
 "nbformat": 4,
 "nbformat_minor": 5
}
