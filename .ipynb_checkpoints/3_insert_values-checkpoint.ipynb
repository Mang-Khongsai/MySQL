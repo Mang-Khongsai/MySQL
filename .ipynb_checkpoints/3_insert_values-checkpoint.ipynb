{
 "cells": [
  {
   "cell_type": "markdown",
   "id": "a231cc89-8b61-467a-b840-257d5351cf58",
   "metadata": {
    "tags": []
   },
   "source": [
    "<h2 style='color:blue' align='center'>Python and MySql Connection</h2>"
   ]
  },
  {
   "cell_type": "markdown",
   "id": "3de5bc92-c639-4a49-bb92-ab6ea571e116",
   "metadata": {},
   "source": [
    "<h3>1. Importing MySql Connector:</h3>"
   ]
  },
  {
   "cell_type": "code",
   "execution_count": 18,
   "id": "42e61154-62ec-472c-afd4-a36caeb32a96",
   "metadata": {},
   "outputs": [],
   "source": [
    "import mysql.connector"
   ]
  },
  {
   "cell_type": "markdown",
   "id": "51919a26-ec09-4b32-8c44-2b8b7bc71795",
   "metadata": {},
   "source": [
    "<h3>2. Connect to Mysql using MySql details:</h3>"
   ]
  },
  {
   "cell_type": "code",
   "execution_count": 19,
   "id": "ab442913-f555-4c16-89b7-fdd5a55ebdbe",
   "metadata": {
    "tags": []
   },
   "outputs": [],
   "source": [
    "conn = mysql.connector.connect(\n",
    "    host='localhost',\n",
    "    user='root',\n",
    "    password='Khongsai123#',\n",
    "    database = 'new_db'\n",
    ")\n",
    "\n",
    "cursor = conn.cursor()"
   ]
  },
  {
   "cell_type": "markdown",
   "id": "32d16681-cafa-4ce4-93ed-9c3e3c253c81",
   "metadata": {},
   "source": [
    "<h3>3. Building a Cursor to Execute Queries:</h3>"
   ]
  },
  {
   "cell_type": "code",
   "execution_count": 20,
   "id": "7ee7a37e-ac79-426e-bd91-7d64f6da8f21",
   "metadata": {},
   "outputs": [],
   "source": [
    "cursor.execute(\"SHOW TABLES;\")\n",
    "data = cursor.fetchall()"
   ]
  },
  {
   "cell_type": "code",
   "execution_count": 10,
   "id": "aa043cf9-52f3-4786-bb0f-27ab17c1991d",
   "metadata": {},
   "outputs": [
    {
     "name": "stdout",
     "output_type": "stream",
     "text": [
      "[('celebrities',)]\n"
     ]
    }
   ],
   "source": [
    "print(data)"
   ]
  },
  {
   "cell_type": "markdown",
   "id": "7a22e122-b891-4762-a184-f23bcdb4b4ef",
   "metadata": {},
   "source": [
    "<h3>Show Table Column Name</h3>"
   ]
  },
  {
   "cell_type": "code",
   "execution_count": 11,
   "id": "f1c4221d-2767-4011-b73d-ff2e51a7b411",
   "metadata": {},
   "outputs": [
    {
     "name": "stdout",
     "output_type": "stream",
     "text": [
      "PersonID, FirstName, LastName, Nationality, Age, Popularity, Status, "
     ]
    }
   ],
   "source": [
    "cursor.execute(\"DESCRIBE celebrities\")\n",
    "for x in cursor.fetchall():\n",
    "    print(x[0],end=\", \")"
   ]
  },
  {
   "cell_type": "markdown",
   "id": "4352b8dc-b4e6-409e-af59-c43c94d1893c",
   "metadata": {},
   "source": [
    "<h3>Insert Single Row:</h3>"
   ]
  },
  {
   "cell_type": "code",
   "execution_count": 13,
   "id": "70e1e4b5-93cb-4b63-aa4d-50732a5d185e",
   "metadata": {},
   "outputs": [],
   "source": [
    "cursor.execute(\"\"\"INSERT INTO celebrities(PersonID, FirstName, LastName, Nationality, Dob, Age, Popularity, Status)\n",
    "               VALUES (%s, %s, %s, %s, %s, %s, %s, %s);\"\"\", (1, \"Bjarne\", \"Stroupstrup\", \"Denmark\", \"30th Dec 1959\", 73, \"C++\", \"Late\"))\n",
    "\n",
    "conn.commit()"
   ]
  },
  {
   "cell_type": "code",
   "execution_count": 14,
   "id": "cdb580e9-db0c-4b76-bb63-7a9cc218172a",
   "metadata": {},
   "outputs": [
    {
     "name": "stdout",
     "output_type": "stream",
     "text": [
      "(1, 'Bjarne', 'Stroupstrup', 'Denmark', 73, 'C++', 'Late')\n"
     ]
    }
   ],
   "source": [
    "# print the content of the table students\n",
    "cursor.execute(f\"SELECT * FROM celebrities\")\n",
    "data1 = cursor.fetchall()\n",
    "for row in data1:\n",
    "    print(row)"
   ]
  },
  {
   "cell_type": "markdown",
   "id": "6db79664-5dce-456e-9909-94854d1fb51b",
   "metadata": {},
   "source": [
    "<h3>Insert Multiple Rows:</h3>"
   ]
  },
  {
   "cell_type": "code",
   "execution_count": 15,
   "id": "8e00a55c-7807-40a9-a230-8b30c2ae799d",
   "metadata": {},
   "outputs": [],
   "source": [
    "cursor.executemany(\"\"\"INSERT INTO celebrities(PersonID, FirstName, LastName, Nationality, Dob, Age, Popularity, Status)\n",
    "                VALUES (%s, %s, %s, %s, %s, %s, %s, %s)\"\"\", \n",
    "                   [(2,\"James\", \"Gostling\",\"Canada\", \"19th May 1955\", 69, \"Java\", \"Late\"),\n",
    "                    (3,\"Guido Van\", \"Rossum\", \"Dutch\", \"31st Jan 1956\", 68, \"Python\", \"Alive\"),\n",
    "                   (4, \"Dennis\", \"Ritche\", \"USA\" , \"12th Oct 2011\", 70, \"C\", \"Late\"),\n",
    "                   (5, \"Michael Monty\", \"Widenius\", \"Finnish\", \"29th Nov 1962\", 61, \"MySQL\", \"Late\"),\n",
    "                   (6, \"Michael\", \"Stonebraker\", \"American\",\"11th March 1943\", 81, \"PostgreSQL\", \"Alive\"), \n",
    "                   (7, \"Linus Benedict\", \"Torvalds\", \"Finnish\",\"28th Dec 1969\", 54, \"Linux\", \"Alive\", )]\n",
    "                  )\n",
    "\n",
    "conn.commit()"
   ]
  },
  {
   "cell_type": "markdown",
   "id": "efacd5cf-2ec2-4fd2-81b7-cf0f8a6b8b58",
   "metadata": {},
   "source": [
    "<h3>Print The Table Contents Using fetchall()</h3>"
   ]
  },
  {
   "cell_type": "code",
   "execution_count": 28,
   "id": "092e3c2c-13d3-42ea-973d-8b99421491e8",
   "metadata": {},
   "outputs": [
    {
     "ename": "InternalError",
     "evalue": "Unread result found",
     "output_type": "error",
     "traceback": [
      "\u001b[1;31m---------------------------------------------------------------------------\u001b[0m",
      "\u001b[1;31mInternalError\u001b[0m                             Traceback (most recent call last)",
      "Cell \u001b[1;32mIn[28], line 1\u001b[0m\n\u001b[1;32m----> 1\u001b[0m \u001b[43mcursor\u001b[49m\u001b[38;5;241;43m.\u001b[39;49m\u001b[43mexecute\u001b[49m\u001b[43m(\u001b[49m\u001b[38;5;124;43m\"\u001b[39;49m\u001b[38;5;124;43mSELECT * FROM celebrities;\u001b[39;49m\u001b[38;5;124;43m\"\u001b[39;49m\u001b[43m)\u001b[49m\n\u001b[0;32m      3\u001b[0m \u001b[38;5;28;01mfor\u001b[39;00m row \u001b[38;5;129;01min\u001b[39;00m cursor\u001b[38;5;241m.\u001b[39mfetchall():\n\u001b[0;32m      4\u001b[0m     \u001b[38;5;28mprint\u001b[39m(row)\n",
      "File \u001b[1;32mC:\\Program Files\\Python312\\Lib\\site-packages\\mysql\\connector\\cursor_cext.py:331\u001b[0m, in \u001b[0;36mCMySQLCursor.execute\u001b[1;34m(self, operation, params, multi)\u001b[0m\n\u001b[0;32m    329\u001b[0m \u001b[38;5;28;01mexcept\u001b[39;00m (ProgrammingError, \u001b[38;5;167;01mReferenceError\u001b[39;00m) \u001b[38;5;28;01mas\u001b[39;00m err:\n\u001b[0;32m    330\u001b[0m     \u001b[38;5;28;01mraise\u001b[39;00m ProgrammingError(\u001b[38;5;124m\"\u001b[39m\u001b[38;5;124mCursor is not connected\u001b[39m\u001b[38;5;124m\"\u001b[39m, \u001b[38;5;241m2055\u001b[39m) \u001b[38;5;28;01mfrom\u001b[39;00m \u001b[38;5;21;01merr\u001b[39;00m\n\u001b[1;32m--> 331\u001b[0m \u001b[38;5;28;43mself\u001b[39;49m\u001b[38;5;241;43m.\u001b[39;49m\u001b[43m_connection\u001b[49m\u001b[38;5;241;43m.\u001b[39;49m\u001b[43mhandle_unread_result\u001b[49m\u001b[43m(\u001b[49m\u001b[43m)\u001b[49m\n\u001b[0;32m    333\u001b[0m stmt \u001b[38;5;241m=\u001b[39m \u001b[38;5;124mb\u001b[39m\u001b[38;5;124m\"\u001b[39m\u001b[38;5;124m\"\u001b[39m\n\u001b[0;32m    334\u001b[0m \u001b[38;5;28mself\u001b[39m\u001b[38;5;241m.\u001b[39mreset()\n",
      "File \u001b[1;32mC:\\Program Files\\Python312\\Lib\\site-packages\\mysql\\connector\\connection_cext.py:1047\u001b[0m, in \u001b[0;36mCMySQLConnection.handle_unread_result\u001b[1;34m(self, prepared)\u001b[0m\n\u001b[0;32m   1045\u001b[0m     \u001b[38;5;28mself\u001b[39m\u001b[38;5;241m.\u001b[39mconsume_results()\n\u001b[0;32m   1046\u001b[0m \u001b[38;5;28;01melif\u001b[39;00m unread_result:\n\u001b[1;32m-> 1047\u001b[0m     \u001b[38;5;28;01mraise\u001b[39;00m InternalError(\u001b[38;5;124m\"\u001b[39m\u001b[38;5;124mUnread result found\u001b[39m\u001b[38;5;124m\"\u001b[39m)\n",
      "\u001b[1;31mInternalError\u001b[0m: Unread result found"
     ]
    }
   ],
   "source": [
    "cursor.execute(\"SELECT * FROM celebrities;\")\n",
    "\n",
    "for row in cursor.fetchall():\n",
    "    print(row)"
   ]
  },
  {
   "cell_type": "markdown",
   "id": "f3f970f2-7820-429f-b518-c6a58147d188",
   "metadata": {},
   "source": [
    "<h3>Print The Table Contents Using featchmany(size)</h3>"
   ]
  },
  {
   "cell_type": "code",
   "execution_count": 29,
   "id": "52c20e6e-04af-40a1-a022-9bbba7ac5124",
   "metadata": {},
   "outputs": [
    {
     "ename": "InternalError",
     "evalue": "Unread result found",
     "output_type": "error",
     "traceback": [
      "\u001b[1;31m---------------------------------------------------------------------------\u001b[0m",
      "\u001b[1;31mInternalError\u001b[0m                             Traceback (most recent call last)",
      "Cell \u001b[1;32mIn[29], line 1\u001b[0m\n\u001b[1;32m----> 1\u001b[0m \u001b[43mcursor\u001b[49m\u001b[38;5;241;43m.\u001b[39;49m\u001b[43mexecute\u001b[49m\u001b[43m(\u001b[49m\u001b[38;5;124;43m\"\u001b[39;49m\u001b[38;5;124;43mSELECT * FROM celebrities;\u001b[39;49m\u001b[38;5;124;43m\"\u001b[39;49m\u001b[43m)\u001b[49m\n",
      "File \u001b[1;32mC:\\Program Files\\Python312\\Lib\\site-packages\\mysql\\connector\\cursor_cext.py:331\u001b[0m, in \u001b[0;36mCMySQLCursor.execute\u001b[1;34m(self, operation, params, multi)\u001b[0m\n\u001b[0;32m    329\u001b[0m \u001b[38;5;28;01mexcept\u001b[39;00m (ProgrammingError, \u001b[38;5;167;01mReferenceError\u001b[39;00m) \u001b[38;5;28;01mas\u001b[39;00m err:\n\u001b[0;32m    330\u001b[0m     \u001b[38;5;28;01mraise\u001b[39;00m ProgrammingError(\u001b[38;5;124m\"\u001b[39m\u001b[38;5;124mCursor is not connected\u001b[39m\u001b[38;5;124m\"\u001b[39m, \u001b[38;5;241m2055\u001b[39m) \u001b[38;5;28;01mfrom\u001b[39;00m \u001b[38;5;21;01merr\u001b[39;00m\n\u001b[1;32m--> 331\u001b[0m \u001b[38;5;28;43mself\u001b[39;49m\u001b[38;5;241;43m.\u001b[39;49m\u001b[43m_connection\u001b[49m\u001b[38;5;241;43m.\u001b[39;49m\u001b[43mhandle_unread_result\u001b[49m\u001b[43m(\u001b[49m\u001b[43m)\u001b[49m\n\u001b[0;32m    333\u001b[0m stmt \u001b[38;5;241m=\u001b[39m \u001b[38;5;124mb\u001b[39m\u001b[38;5;124m\"\u001b[39m\u001b[38;5;124m\"\u001b[39m\n\u001b[0;32m    334\u001b[0m \u001b[38;5;28mself\u001b[39m\u001b[38;5;241m.\u001b[39mreset()\n",
      "File \u001b[1;32mC:\\Program Files\\Python312\\Lib\\site-packages\\mysql\\connector\\connection_cext.py:1047\u001b[0m, in \u001b[0;36mCMySQLConnection.handle_unread_result\u001b[1;34m(self, prepared)\u001b[0m\n\u001b[0;32m   1045\u001b[0m     \u001b[38;5;28mself\u001b[39m\u001b[38;5;241m.\u001b[39mconsume_results()\n\u001b[0;32m   1046\u001b[0m \u001b[38;5;28;01melif\u001b[39;00m unread_result:\n\u001b[1;32m-> 1047\u001b[0m     \u001b[38;5;28;01mraise\u001b[39;00m InternalError(\u001b[38;5;124m\"\u001b[39m\u001b[38;5;124mUnread result found\u001b[39m\u001b[38;5;124m\"\u001b[39m)\n",
      "\u001b[1;31mInternalError\u001b[0m: Unread result found"
     ]
    }
   ],
   "source": [
    "cursor.execute(\"SELECT * FROM celebrities;\")"
   ]
  },
  {
   "cell_type": "code",
   "execution_count": 30,
   "id": "c40db190-1c6a-404a-a013-b6e4e58541ed",
   "metadata": {},
   "outputs": [
    {
     "name": "stdout",
     "output_type": "stream",
     "text": [
      "(3, 'Guido Van', 'Rossum', 'Dutch', 69, 'Python', 'Alive')\n"
     ]
    }
   ],
   "source": [
    "for row in cursor.fetchmany(2):\n",
    "    print(row)"
   ]
  },
  {
   "cell_type": "code",
   "execution_count": 31,
   "id": "8aa6e3d6-dd6b-4974-a812-386392a4cad3",
   "metadata": {},
   "outputs": [],
   "source": [
    "cursor.close()\n",
    "conn.close()"
   ]
  },
  {
   "cell_type": "code",
   "execution_count": null,
   "id": "f1cffd95-7d88-41bb-b1a4-87354c3029e8",
   "metadata": {},
   "outputs": [],
   "source": []
  }
 ],
 "metadata": {
  "kernelspec": {
   "display_name": "Python 3 (ipykernel)",
   "language": "python",
   "name": "python3"
  },
  "language_info": {
   "codemirror_mode": {
    "name": "ipython",
    "version": 3
   },
   "file_extension": ".py",
   "mimetype": "text/x-python",
   "name": "python",
   "nbconvert_exporter": "python",
   "pygments_lexer": "ipython3",
   "version": "3.12.3"
  }
 },
 "nbformat": 4,
 "nbformat_minor": 5
}
