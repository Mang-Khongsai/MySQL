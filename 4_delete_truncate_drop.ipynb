{
 "cells": [
  {
   "cell_type": "markdown",
   "id": "26976ea3-b932-4e2c-a8ef-7f1e1af83cad",
   "metadata": {},
   "source": [
    "<h2 style='color:blue' align='center' >Delete Drop in Python MySQL</h2>"
   ]
  },
  {
   "cell_type": "code",
   "execution_count": 1,
   "id": "49c9b4be-c4b4-49fc-ba57-5789c2b382c9",
   "metadata": {},
   "outputs": [],
   "source": [
    "import mysql.connector\n",
    "\n",
    "conn = mysql.connector.connect(\n",
    "    host='localhost',\n",
    "    user='root',\n",
    "    password='Khongsai123#'\n",
    ")\n",
    "\n",
    "cursor = conn.cursor(buffered=True)"
   ]
  },
  {
   "cell_type": "markdown",
   "id": "2bdb03c9-2e02-4e42-9f8f-be8188db9e18",
   "metadata": {},
   "source": [
    "**Create Database And Use It.**"
   ]
  },
  {
   "cell_type": "code",
   "execution_count": 2,
   "id": "432b0704-7469-4530-b3a8-b68390952128",
   "metadata": {},
   "outputs": [
    {
     "name": "stdout",
     "output_type": "stream",
     "text": [
      "new_db1 DATABASE is CREATED successfully!..\n"
     ]
    }
   ],
   "source": [
    "database_name = 'new_db1'\n",
    "try: \n",
    "    cursor.execute(f\"CREATE DATABASE IF NOT EXISTS {database_name}\")\n",
    "except Exception as e:\n",
    "    print(e)\n",
    "else:\n",
    "    print(f\"{database_name} DATABASE is CREATED successfully!..\")"
   ]
  },
  {
   "cell_type": "code",
   "execution_count": 3,
   "id": "6d22467c-304e-4976-a3b9-5b227c7b345c",
   "metadata": {},
   "outputs": [
    {
     "name": "stdout",
     "output_type": "stream",
     "text": [
      "new_db1 is used successfully!..\n"
     ]
    }
   ],
   "source": [
    "cursor.execute(f\"USE {database_name}\")\n",
    "print(f\"{database_name} is used successfully!..\")"
   ]
  },
  {
   "cell_type": "markdown",
   "id": "4229622e-50d3-4b94-9fe6-8e62bc808a03",
   "metadata": {},
   "source": [
    "**To make sure a we are working on an existing table first make sure to drop the table if exist and create it from fresh and use it.**"
   ]
  },
  {
   "cell_type": "code",
   "execution_count": 4,
   "id": "73950516-f647-4471-b296-b904c3d2da1f",
   "metadata": {},
   "outputs": [
    {
     "name": "stdout",
     "output_type": "stream",
     "text": [
      "students TABLE is CREATED successfully..\n"
     ]
    }
   ],
   "source": [
    "table_name = 'students'\n",
    "\n",
    "try:\n",
    "    cursor.execute(f\"DROP TABLE IF EXISTS {table_name};\")\n",
    "except Exception as e:\n",
    "    print(e)\n",
    "else:\n",
    "    cursor.execute(f\"\"\"CREATE TABLE {table_name}(\n",
    "    id int primary key not null,\n",
    "    fname varchar(255) not null,\n",
    "    lname varchar(255) null,\n",
    "    class varchar(255),\n",
    "    stream varchar(255));\n",
    "    \"\"\")\n",
    "    print(f\"{table_name} TABLE is CREATED successfully..\")\n"
   ]
  },
  {
   "cell_type": "markdown",
   "id": "2d52c686-3f72-49e3-99b2-dc71cc79c1e5",
   "metadata": {},
   "source": [
    "**Insert multiple Values into new table we just created**"
   ]
  },
  {
   "cell_type": "code",
   "execution_count": 5,
   "id": "f5a1c0ce-ecbf-4703-85aa-a17f75000206",
   "metadata": {},
   "outputs": [],
   "source": [
    "cursor.executemany(f\"\"\"INSERT INTO {table_name}(id, fname, lname, class, stream)\n",
    "                    VALUES (%s, %s, %s, %s, %s);\"\"\",\n",
    "                   [(1, \"Jeremy\", \"Smith\", 5, \"Science\"),\n",
    "                    (2, \"John\", \"Jeffery\", 8, \"Science\"),\n",
    "                    (3, \"Cathrine\", None , 8, \"Arts\")])\n",
    "conn.commit()"
   ]
  },
  {
   "cell_type": "markdown",
   "id": "439502de-26bc-4abc-9108-6df22f7dfbde",
   "metadata": {},
   "source": [
    "**Print The Contents of The Table**"
   ]
  },
  {
   "cell_type": "code",
   "execution_count": 6,
   "id": "07db08bf-fb6d-46f8-908d-1feb205566dc",
   "metadata": {},
   "outputs": [
    {
     "name": "stdout",
     "output_type": "stream",
     "text": [
      "(1, 'Jeremy', 'Smith', '5', 'Science')\n",
      "(2, 'John', 'Jeffery', '8', 'Science')\n",
      "(3, 'Cathrine', None, '8', 'Arts')\n"
     ]
    }
   ],
   "source": [
    "cursor.execute(f\"SELECT * FROM {table_name};\")\n",
    "for row in cursor.fetchall():\n",
    "    print(row)"
   ]
  },
  {
   "cell_type": "markdown",
   "id": "7c42addb-e59e-4ab0-87f8-fa373d417d7c",
   "metadata": {},
   "source": [
    "<h3>1. DELETE/TRUNCATE TABLE: </h3>\n",
    "\n",
    "**Both removes data from the Table and keep the strucutre of the table intact ie all the column names will still exist.**\n",
    "\n",
    "**Their difference is:**\n",
    "```\n",
    "1. DELETE will removes data with or without condition While TRUNCATE will remove the whole data without condition.\n",
    "2. DELETE is slower than TRUNCATE\n",
    "```"
   ]
  },
  {
   "cell_type": "markdown",
   "id": "29496b3f-ccd6-4d69-9dd6-01fb214e4c9d",
   "metadata": {},
   "source": [
    "**Try delete and Truncate operation**"
   ]
  },
  {
   "cell_type": "code",
   "execution_count": 10,
   "id": "216022d4-eba4-46db-af01-89c5dd6f5b3e",
   "metadata": {},
   "outputs": [
    {
     "name": "stdout",
     "output_type": "stream",
     "text": [
      "NOTE:\n",
      "Do not give numerical input. only choose between DELETE/TRUNCATE.\n",
      "No case sensitive.\n",
      "\n",
      "\n"
     ]
    },
    {
     "name": "stdin",
     "output_type": "stream",
     "text": [
      "SELECT OPTION:\n",
      "1.DELETE\n",
      "2.TRUNCATE\n",
      " delete\n"
     ]
    },
    {
     "name": "stdout",
     "output_type": "stream",
     "text": [
      "going inside delete\n",
      "delete operation successfull!...\n"
     ]
    }
   ],
   "source": [
    "print(\"NOTE:\\nDo not give numerical input. only choose between DELETE/TRUNCATE.\\nNo case sensitive.\\n\\n\")\n",
    "try:\n",
    "    while True:\n",
    "        option = input(\"SELECT OPTION:\\n1.DELETE\\n2.TRUNCATE\\n\")\n",
    "        if option.upper()==\"DELETE\":\n",
    "            print(\"going inside delete\")\n",
    "            cursor.execute(f\"\"\"{option} FROM {table_name}\n",
    "                                WHERE id=2;\"\"\")\n",
    "        elif option.upper()=='TRUNCATE':\n",
    "            print(\"going inside truncate\")\n",
    "            cursor.execute(f\"\"\"{option} {table_name};\"\"\")\n",
    "        \n",
    "        else:\n",
    "            rint(\"You have enter the wrong value\\nDo you want to try again(y/n): \")\n",
    "            n = input()\n",
    "            if n.lower()=='n':\n",
    "                continue\n",
    "        break\n",
    "except Exception as e:\n",
    "    print(e)\n",
    "else:\n",
    "    conn.commit()\n",
    "    print(f\"{option} operation successfull!...\")\n",
    "        "
   ]
  },
  {
   "cell_type": "markdown",
   "id": "f29849d1-4841-406c-a520-cb35544a38ce",
   "metadata": {},
   "source": [
    "**Print the remaining rows after one row is deleted.**"
   ]
  },
  {
   "cell_type": "code",
   "execution_count": 11,
   "id": "b6451e24-66d6-45d9-bbe3-5b2828b102fe",
   "metadata": {},
   "outputs": [],
   "source": [
    "cursor.execute(f\"\"\"SELECT * FROM {table_name}\"\"\")\n",
    "for row in cursor.fetchall():\n",
    "    print(row)"
   ]
  },
  {
   "cell_type": "markdown",
   "id": "750815bd-9628-4db2-a49d-38f0b89e777e",
   "metadata": {},
   "source": [
    "**Checks whether the table is present or not by printing its column name. If it is present it will return column name.**"
   ]
  },
  {
   "cell_type": "code",
   "execution_count": 12,
   "id": "3fa81ec2-d0ae-4296-8a7c-39c92c6ba349",
   "metadata": {},
   "outputs": [
    {
     "name": "stdout",
     "output_type": "stream",
     "text": [
      "id, fname, lname, class, stream, "
     ]
    }
   ],
   "source": [
    "try:\n",
    "    cursor.execute(f\"\"\"DESCRIBE {table_name};\"\"\")\n",
    "except Exception as e:\n",
    "    print(e)\n",
    "else:\n",
    "    for col in cursor.fetchall():\n",
    "        print(col[0],end=\", \")"
   ]
  },
  {
   "cell_type": "markdown",
   "id": "45ae9f64-f0bd-44d9-864e-8831fcb6c105",
   "metadata": {},
   "source": [
    "<h3>2. DROP TABLE: </h3>\n",
    "\n",
    "**It will delete the Table itself and everything in it but not the schema of the table.**"
   ]
  },
  {
   "cell_type": "code",
   "execution_count": 13,
   "id": "5232404f-e4b0-4e8b-97c5-c08000e91fe7",
   "metadata": {},
   "outputs": [
    {
     "name": "stdout",
     "output_type": "stream",
     "text": [
      "students TABLE is successfully dropped\n"
     ]
    }
   ],
   "source": [
    "try:\n",
    "    cursor.execute(f\"\"\"DROP TABLE  {table_name};\"\"\")\n",
    "except Exception as e:\n",
    "    print(e)\n",
    "else:\n",
    "    conn.commit()\n",
    "    print(f\"{table_name} TABLE is successfully dropped\")"
   ]
  },
  {
   "cell_type": "markdown",
   "id": "152c426d-f512-4cdc-be82-83d7ead42609",
   "metadata": {},
   "source": [
    "**Checks whether the table is present or not by printing its column name. If it is present it will return column name else it will not return any column name**"
   ]
  },
  {
   "cell_type": "code",
   "execution_count": 14,
   "id": "08530a34-5431-422d-94db-042c546d0f3f",
   "metadata": {},
   "outputs": [
    {
     "name": "stdout",
     "output_type": "stream",
     "text": [
      "1146 (42S02): Table 'new_db1.students' doesn't exist\n"
     ]
    }
   ],
   "source": [
    "try:\n",
    "    cursor.execute(f\"\"\"DESCRIBE {table_name};\"\"\")\n",
    "except Exception as e:\n",
    "    print(e)\n",
    "else:\n",
    "    for col in cursor.fetchall():\n",
    "        print(col[0],end=\", \")"
   ]
  },
  {
   "cell_type": "code",
   "execution_count": 15,
   "id": "fa0f2fee-1729-4927-8d3b-905f0f89ac95",
   "metadata": {},
   "outputs": [],
   "source": [
    "cursor.close()\n",
    "conn.close()"
   ]
  },
  {
   "cell_type": "code",
   "execution_count": null,
   "id": "5f511054-750e-48c5-841b-b4a7cc4364b4",
   "metadata": {},
   "outputs": [],
   "source": []
  }
 ],
 "metadata": {
  "kernelspec": {
   "display_name": "Python 3 (ipykernel)",
   "language": "python",
   "name": "python3"
  },
  "language_info": {
   "codemirror_mode": {
    "name": "ipython",
    "version": 3
   },
   "file_extension": ".py",
   "mimetype": "text/x-python",
   "name": "python",
   "nbconvert_exporter": "python",
   "pygments_lexer": "ipython3",
   "version": "3.12.5"
  }
 },
 "nbformat": 4,
 "nbformat_minor": 5
}
