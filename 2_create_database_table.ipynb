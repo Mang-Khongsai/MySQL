{
 "cells": [
  {
   "cell_type": "code",
   "execution_count": 3,
   "id": "19339e65-316e-4311-b928-3de032696c06",
   "metadata": {},
   "outputs": [],
   "source": [
    "import mysql.connector\n",
    "\n",
    "conn = mysql.connector.connect(\n",
    "    host='localhost',\n",
    "    user='root',\n",
    "    password='Khongsai123#'\n",
    ")\n",
    "\n",
    "cursor = conn.cursor()"
   ]
  },
  {
   "cell_type": "markdown",
   "id": "3d1142bc-f237-49e6-9f93-ea632e9ac68c",
   "metadata": {},
   "source": [
    "<h2>1. Create a Database</h2>"
   ]
  },
  {
   "cell_type": "code",
   "execution_count": 4,
   "id": "d7a98b5a-8ce7-4ac3-ab7f-9d0f689354c5",
   "metadata": {},
   "outputs": [],
   "source": [
    "cursor.execute(\"create database if not exists `new_db`;\")"
   ]
  },
  {
   "cell_type": "code",
   "execution_count": 5,
   "id": "fad15e1a-9c4b-4ebc-8a22-de4f5dbc3e1e",
   "metadata": {},
   "outputs": [],
   "source": [
    "cursor.execute(\"USE new_db\")"
   ]
  },
  {
   "cell_type": "code",
   "execution_count": 6,
   "id": "c0151776-9a49-4e57-9143-44d7c60b0df6",
   "metadata": {},
   "outputs": [
    {
     "name": "stdout",
     "output_type": "stream",
     "text": [
      "('information_schema',)\n",
      "('mydatabase',)\n",
      "('mysql',)\n",
      "('new_db',)\n",
      "('performance_schema',)\n",
      "('sys',)\n"
     ]
    }
   ],
   "source": [
    "cursor.execute(\"SHOW DATABASES\")\n",
    "for x in cursor.fetchall():\n",
    "    print(x)"
   ]
  },
  {
   "cell_type": "code",
   "execution_count": 7,
   "id": "856a8451-08e4-4b34-b921-82ca7e055d37",
   "metadata": {},
   "outputs": [
    {
     "name": "stdout",
     "output_type": "stream",
     "text": [
      "[]\n"
     ]
    }
   ],
   "source": [
    "cursor.execute(\"SHOW TABLES\")\n",
    "print(cursor.fetchall())"
   ]
  },
  {
   "cell_type": "code",
   "execution_count": 8,
   "id": "e0b74f68-4a39-47be-9c18-e87385e44679",
   "metadata": {},
   "outputs": [],
   "source": [
    "table_name = \"celebrities\""
   ]
  },
  {
   "cell_type": "code",
   "execution_count": 9,
   "id": "8429e510-7e54-4304-839c-b919bff9bed6",
   "metadata": {},
   "outputs": [
    {
     "name": "stdout",
     "output_type": "stream",
     "text": [
      "celebrities has been removed successfully!\n"
     ]
    }
   ],
   "source": [
    "try:\n",
    "    cursor.execute(f\"drop table if exists {table_name};\")\n",
    "except Exception as e:\n",
    "    print(\"There is no table name \",table_name)\n",
    "else:\n",
    "    conn.commit()\n",
    "    print(f\"{table_name} has been removed successfully!\")"
   ]
  },
  {
   "cell_type": "markdown",
   "id": "ffa683b7-66c7-4719-ac70-7b8b7a782e2b",
   "metadata": {},
   "source": [
    "<h2>2. Create a Table Inside The Database</h2>"
   ]
  },
  {
   "cell_type": "code",
   "execution_count": 10,
   "id": "61b07916-1f9a-4acb-9a0e-7539c58b486b",
   "metadata": {},
   "outputs": [
    {
     "name": "stdout",
     "output_type": "stream",
     "text": [
      "[]\n"
     ]
    }
   ],
   "source": [
    "cursor.execute(\"SHOW TABLES\")\n",
    "\n",
    "desc = cursor.fetchall()\n",
    "print(desc)\n",
    "for x in desc:\n",
    "    print(x[0])"
   ]
  },
  {
   "cell_type": "code",
   "execution_count": 11,
   "id": "d145fad1-8e6e-4084-9e1f-9ebf4ed777a9",
   "metadata": {},
   "outputs": [],
   "source": [
    "cursor.execute(\"\"\"CREATE TABLE celebrities (\n",
    "PersonID int PRIMARY KEY,\n",
    "FirstName varchar(255),\n",
    "LastName varchar(255),\n",
    "Nationality varchar(100),\n",
    "Dob varchar(200),\n",
    "Age int,\n",
    "Popularity varchar(255),\n",
    "Status varchar(10)\n",
    ");\"\"\")"
   ]
  },
  {
   "cell_type": "code",
   "execution_count": 12,
   "id": "1178cda2-f99f-4a94-9e49-70e0bb6fc44f",
   "metadata": {},
   "outputs": [
    {
     "name": "stdout",
     "output_type": "stream",
     "text": [
      "[('celebrities',)]\n",
      "celebrities\n"
     ]
    }
   ],
   "source": [
    "cursor.execute(\"SHOW TABLES\")\n",
    "\n",
    "desc = cursor.fetchall()\n",
    "print(desc)\n",
    "for x in desc:\n",
    "    print(x[0])"
   ]
  },
  {
   "cell_type": "code",
   "execution_count": 13,
   "id": "ccbea2e4-e697-413b-aae3-5c3f6879a73d",
   "metadata": {},
   "outputs": [],
   "source": [
    "cursor.close()\n",
    "conn.close()"
   ]
  },
  {
   "cell_type": "code",
   "execution_count": null,
   "id": "f109eaa2-bccb-4dac-8a30-afb1d06b17ab",
   "metadata": {},
   "outputs": [],
   "source": []
  },
  {
   "cell_type": "code",
   "execution_count": null,
   "id": "cb6bc714-851e-4014-90f0-4fec1a1324b9",
   "metadata": {},
   "outputs": [],
   "source": []
  },
  {
   "cell_type": "code",
   "execution_count": null,
   "id": "0bfccc5c-a516-4dc9-9cb3-bb727c959472",
   "metadata": {},
   "outputs": [],
   "source": []
  }
 ],
 "metadata": {
  "kernelspec": {
   "display_name": "Python 3 (ipykernel)",
   "language": "python",
   "name": "python3"
  },
  "language_info": {
   "codemirror_mode": {
    "name": "ipython",
    "version": 3
   },
   "file_extension": ".py",
   "mimetype": "text/x-python",
   "name": "python",
   "nbconvert_exporter": "python",
   "pygments_lexer": "ipython3",
   "version": "3.12.3"
  }
 },
 "nbformat": 4,
 "nbformat_minor": 5
}
